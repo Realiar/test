{
 "metadata": {
  "name": "Madagascar Test"
 },
 "nbformat": 3,
 "nbformat_minor": 0,
 "worksheets": [
  {
   "cells": [
    {
     "cell_type": "heading",
     "level": 2,
     "metadata": {},
     "source": "Editing SConstruct"
    },
    {
     "cell_type": "markdown",
     "metadata": {},
     "source": "You can edit SConstruct files inside an IPython notebook using <code>%%file</code>"
    },
    {
     "cell_type": "code",
     "collapsed": false,
     "input": "%%file SConstruct\n#\n# Setting up\n#\nfrom rsf.proj import *\n \n#\n# Make filter.rsf\n#\nFlow('filter',None,\n     'spike n1=1000 k1=300 | bandpass fhi=2 phase=1')\n \n#\n# Make filter.vpl\n#\nResult('filter',\n       'wiggle clip=0.02 title=\"Welcome to Madagascar\"')\n\nEnd()",
     "language": "python",
     "metadata": {},
     "outputs": [
      {
       "output_type": "stream",
       "stream": "stdout",
       "text": "Overwriting SConstruct"
      },
      {
       "output_type": "stream",
       "stream": "stdout",
       "text": "\n"
      }
     ],
     "prompt_number": 8
    },
    {
     "cell_type": "heading",
     "level": 2,
     "metadata": {},
     "source": "Running SCons"
    },
    {
     "cell_type": "markdown",
     "metadata": {},
     "source": "After running SCons through a shell escape, you can display images inline using <code>m8r</code> API"
    },
    {
     "cell_type": "code",
     "collapsed": false,
     "input": "!scons -Q",
     "language": "python",
     "metadata": {},
     "outputs": [
      {
       "output_type": "stream",
       "stream": "stdout",
       "text": "/Users/sergey/RSFROOT/bin/sfspike n1=1000 k1=300 | /Users/sergey/RSFROOT/bin/sfbandpass fhi=2 phase=1 > filter.rsf\r\n< filter.rsf /Users/sergey/RSFROOT/bin/sfwiggle clip=0.02 title=\"Welcome to Madagascar\" > Fig/filter.vpl\r\n"
      }
     ],
     "prompt_number": 14
    },
    {
     "cell_type": "code",
     "collapsed": false,
     "input": "import m8r\nm8r.Vplot('Fig/filter.vpl',penopts='ppi=60')",
     "language": "python",
     "metadata": {},
     "outputs": [
      {
       "output_type": "pyout",
       "png": "[encoded data removed]",
       "prompt_number": 15,
       "text": "<m8r.Vplot at 0x105e2c4d0>"
      }
     ],
     "prompt_number": 15
    },
    {
     "cell_type": "code",
     "collapsed": false,
     "input": "",
     "language": "python",
     "metadata": {},
     "outputs": []
    }
   ],
   "metadata": {}
  }
 ]
}